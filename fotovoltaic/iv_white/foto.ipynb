{
 "metadata": {
  "name": ""
 },
 "nbformat": 3,
 "nbformat_minor": 0,
 "worksheets": [
  {
   "cells": [
    {
     "cell_type": "code",
     "collapsed": false,
     "input": [
      "import pandas as pd\n",
      "import matplotlib.cm as cm\n",
      "\n",
      "char_299_30 =  pd.read_csv(\"ivw_1080_2_ann_T299_L30.dat\", sep=\"\\t\")"
     ],
     "language": "python",
     "metadata": {},
     "outputs": [],
     "prompt_number": 164
    },
    {
     "cell_type": "code",
     "collapsed": false,
     "input": [
      "char_299_30.head()\n",
      "%matplotlib qt4\n",
      "\n",
      "from collections import OrderedDict\n",
      "filename_template = \"1779_ann_ivw_T299_L{number}.dat\"\n",
      "#filename_template = \"ivw_1080_2_ann_T299_L{number}.dat\"\n",
      "data = OrderedDict()\n",
      "for x in range(10):\n",
      "    filename = filename_template.format(number=x * 10)\n",
      "    data[filename] = pd.read_csv(filename, sep=\"\\t\", header=0, names=['voltage', 'current', 'crap'])"
     ],
     "language": "python",
     "metadata": {},
     "outputs": [],
     "prompt_number": 180
    },
    {
     "cell_type": "markdown",
     "metadata": {},
     "source": [
      "#How our data depends on Light intensity?\n",
      "\n",
      "- is bigger?\n",
      "- is it smaller?\n",
      "\n",
      "##Let's check!"
     ]
    },
    {
     "cell_type": "code",
     "collapsed": false,
     "input": [
      "\n",
      "\n",
      "fig, axes = plt.subplots(1, 1, figsize=(10, 8))\n",
      "for i, (name, values) in enumerate(data.items()):\n",
      "    c = cm.RdYlBu((10 - i)/10.0, 1)\n",
      "    axes.plot(values['voltage'], values['current'], label=\"L%s\" % (i * 10), color=c)\n",
      "    \n",
      "axes.legend(loc=0)\n",
      "axes.set_xlabel('V[V]')\n",
      "axes.set_ylabel('I[mA]')\n",
      "axes.set_title('Characteristics for various light intensities (fixed temperature)')"
     ],
     "language": "python",
     "metadata": {},
     "outputs": [
      {
       "metadata": {},
       "output_type": "pyout",
       "prompt_number": 181,
       "text": [
        "<matplotlib.text.Text at 0x8d81a90>"
       ]
      }
     ],
     "prompt_number": 181
    },
    {
     "cell_type": "markdown",
     "metadata": {},
     "source": [
      "#Plot it for smaller values of voltage"
     ]
    },
    {
     "cell_type": "code",
     "collapsed": false,
     "input": [
      "\n",
      "fig, axes = plt.subplots(1, 1, figsize=(10, 8))\n",
      "for i, (name, values) in enumerate(data.items()):\n",
      "    c = cm.RdYlBu((10 - i)/10.0, 1)\n",
      "    values = values[values['voltage'] < 0.8]\n",
      "    axes.plot(values['voltage'], values['current'], label=\"L%s\" % (i * 10), color=c)\n",
      "    \n",
      "axes.legend(loc=0)\n",
      "axes.set_xlabel('V[V]')\n",
      "axes.set_ylabel('I[mA]')\n",
      "axes.set_title('Characteristics for various light intensity (fixed temperature)')"
     ],
     "language": "python",
     "metadata": {},
     "outputs": [
      {
       "metadata": {},
       "output_type": "pyout",
       "prompt_number": 182,
       "text": [
        "<matplotlib.text.Text at 0x90f5390>"
       ]
      }
     ],
     "prompt_number": 182
    },
    {
     "cell_type": "code",
     "collapsed": false,
     "input": [
      "from collections import OrderedDict\n",
      "\n",
      "\n",
      "def load_dataset(filename_template, filename_template_with_whitespace):\n",
      "    temperature_data = OrderedDict()\n",
      "\n",
      "    for x in range(10, 100):\n",
      "        try:\n",
      "            filename = filename_template_with_whitespace.format(number=x)\n",
      "            temperature_data[filename] = (x, pd.read_csv(filename, sep=\"\\t\", header=0, names=['voltage', 'current', 'crap']))\n",
      "        except:\n",
      "            pass\n",
      "\n",
      "    for x in range(10, 400):\n",
      "        try:\n",
      "            filename = filename_template.format(number=x)\n",
      "            temperature_data[filename] = (x, pd.read_csv(filename, sep=\"\\t\", header=0, names=['voltage', 'current', 'crap']))\n",
      "        except:\n",
      "            pass\n",
      "    return temperature_data\n"
     ],
     "language": "python",
     "metadata": {},
     "outputs": [],
     "prompt_number": 183
    },
    {
     "cell_type": "code",
     "collapsed": false,
     "input": [
      "filename_template = \"ivw_1080_2_ann_T{number}_L100.dat\"\n",
      "filename_template_with_whitespace = \"ivw_1080_2_ann_T {number}_L100.dat\"\n",
      "temperature_datasets = []\n",
      "temperature_datasets.append(load_dataset(filename_template, filename_template_with_whitespace))\n",
      "filename_template = \"1779_ann_ivw_T{number}_L100.dat\"\n",
      "filename_template_with_whitespace = \"1779_ann_ivw_T {number}_L100.dat\"\n",
      "\n",
      "temperature_datasets.append(load_dataset(filename_template, filename_template_with_whitespace))"
     ],
     "language": "python",
     "metadata": {},
     "outputs": [],
     "prompt_number": 184
    },
    {
     "cell_type": "code",
     "collapsed": false,
     "input": [],
     "language": "python",
     "metadata": {},
     "outputs": [],
     "prompt_number": 21
    },
    {
     "cell_type": "markdown",
     "metadata": {},
     "source": [
      "#How our data depends on temperature?"
     ]
    },
    {
     "cell_type": "code",
     "collapsed": false,
     "input": [
      "\n",
      "\n",
      "import matplotlib.cm as cm\n",
      "\n",
      "%matplotlib qt4\n",
      "for temperature_data in temperature_datasets:\n",
      "    fig, axes = plt.subplots(1, 1, figsize=(14, 8))\n",
      "    print \"There are %s series\" % len(temperature_data)\n",
      "\n",
      "    for name, (i, values) in temperature_data.items():\n",
      "        c = cm.RdYlBu((300 - (i - 80))/300.0, 1)\n",
      "        axes.plot(values['voltage'], values['current'], label=name.split('_')[-2], color=c)\n",
      "    \n",
      "    axes.legend(bbox_to_anchor=(1.05, 1), loc=2, borderaxespad=0.)\n",
      "    \n",
      "    axes.set_xlabel('V[V]')\n",
      "    axes.set_ylabel('I[mA]')\n",
      "    axes.set_title('Characteristics for various temperature (light intensity fixed)')\n",
      "    "
     ],
     "language": "python",
     "metadata": {},
     "outputs": [
      {
       "output_type": "stream",
       "stream": "stdout",
       "text": [
        "There are 26 series\n",
        "There are 24 series"
       ]
      },
      {
       "output_type": "stream",
       "stream": "stdout",
       "text": [
        "\n"
       ]
      }
     ],
     "prompt_number": 186
    },
    {
     "cell_type": "markdown",
     "metadata": {},
     "source": [
      "###To compute all desired parameters, we will start with one exemplary series.\n",
      "\n",
      "It's a randomly chosen file. We will develop our computing functions while interactively tinkering with this data:"
     ]
    },
    {
     "cell_type": "code",
     "collapsed": false,
     "input": [
      "_, exemplary = temperature_data['ivw_1080_2_ann_T 81_L100.dat']"
     ],
     "language": "python",
     "metadata": {},
     "outputs": [],
     "prompt_number": 7
    },
    {
     "cell_type": "code",
     "collapsed": false,
     "input": [
      "fig, axis = plt.subplots(1, 1, figsize=(8, 8))\n",
      "interesting = exemplary[exemplary['current'] <= 0.2]\n",
      "axis.plot(interesting['voltage'], interesting['current'])\n",
      "\n",
      "\n",
      "def compute_power(row):\n",
      "    return - row['voltage'] * row['current']\n",
      "\n",
      "power = interesting.apply(compute_power, axis=1)\n",
      "\n",
      "\n",
      "max_power =  max(power)"
     ],
     "language": "python",
     "metadata": {},
     "outputs": [
      {
       "metadata": {},
       "output_type": "display_data",
       "png": "[encoded data removed]",
       "text": [
        "<matplotlib.figure.Figure at 0x351f3d0>"
       ]
      }
     ],
     "prompt_number": 8
    },
    {
     "cell_type": "code",
     "collapsed": false,
     "input": [
      "I_sc = interesting[interesting['voltage'] == 0]['current'].values[0]"
     ],
     "language": "python",
     "metadata": {},
     "outputs": [],
     "prompt_number": 9
    },
    {
     "cell_type": "code",
     "collapsed": false,
     "input": [
      "V_oc = interesting[(interesting['current'] >= 0) & (interesting['current'] <= 0.0002)]['voltage'].min()\n",
      "FF = max_power / (I_sc * V_oc)"
     ],
     "language": "python",
     "metadata": {},
     "outputs": [],
     "prompt_number": 10
    },
    {
     "cell_type": "code",
     "collapsed": false,
     "input": [
      "FF"
     ],
     "language": "python",
     "metadata": {},
     "outputs": [
      {
       "metadata": {},
       "output_type": "pyout",
       "prompt_number": 11,
       "text": [
        "-0.62438447764534732"
       ]
      }
     ],
     "prompt_number": 11
    },
    {
     "cell_type": "code",
     "collapsed": false,
     "input": [
      "x = 433.33\n",
      "\n",
      "eta = max_power / x * 1000"
     ],
     "language": "python",
     "metadata": {},
     "outputs": [],
     "prompt_number": 12
    },
    {
     "cell_type": "code",
     "collapsed": false,
     "input": [
      "print eta * 100"
     ],
     "language": "python",
     "metadata": {},
     "outputs": [
      {
       "output_type": "stream",
       "stream": "stdout",
       "text": [
        "0.824009415457\n"
       ]
      }
     ],
     "prompt_number": 13
    },
    {
     "cell_type": "markdown",
     "metadata": {},
     "source": [
      "#Let's compute everything else!"
     ]
    },
    {
     "cell_type": "code",
     "collapsed": false,
     "input": [
      "def compute_power(row):\n",
      "    return - row['voltage'] * row['current']\n",
      "\n",
      "def compute_max_power(data):\n",
      "    power = data.apply(compute_power, axis=1)\n",
      "    max_power =  max(power)\n",
      "    return max_power\n",
      "\n",
      "def compute_FF(data, max_power):\n",
      "    I_sc = data[data['voltage'] == 0]['current'].values[0]\n",
      "    V_oc = data[(data['current'] >= 0) & (data['current'] <= 0.002)]['voltage'].min()\n",
      "    FF = - max_power / (I_sc * V_oc)\n",
      "    return FF\n",
      "\n",
      "def compute_eta(max_power, x):\n",
      "    return max_power / x * 10000 * 100 * 2 \n",
      "\n",
      "def compute_V_oc(data):\n",
      "    return data[(data['current'] >= -0.00000001) & (data['current'] <= 0.002)]['voltage'].min()"
     ],
     "language": "python",
     "metadata": {},
     "outputs": [],
     "prompt_number": 26
    },
    {
     "cell_type": "code",
     "collapsed": false,
     "input": [
      "all_names = !ls\n",
      "first_names = [filename for filename in all_names if 'dat' in filename and '1080' in filename]\n",
      "second_names = [filename for filename in all_names if 'dat' in filename and '1779' in filename]"
     ],
     "language": "python",
     "metadata": {},
     "outputs": [],
     "prompt_number": 52
    },
    {
     "cell_type": "code",
     "collapsed": false,
     "input": [
      "import pandas as pd\n",
      "\n",
      "def map_to_temp(row):\n",
      "    return int(row['parameters'].split('_')[-2][1:])\n",
      "\n",
      "def map_to_intensity(row):\n",
      "    return int(row['parameters'].split('_')[-1][1:])\n",
      "\n",
      "def compute_more_information(filenames):\n",
      "    results = []\n",
      "    for filename in filenames:\n",
      "        data = pd.read_csv(filename, sep=\"\\t\", header=0, names=['voltage', 'current', 'crap'])\n",
      "        max_power = compute_max_power(data)\n",
      "        FF = compute_FF(data, max_power)\n",
      "        eta = compute_eta(max_power, 433.33)\n",
      "        V_oc = compute_V_oc(data)\n",
      "        results.append(('_'.join(filename.split('_')[3:6]).split('.')[0], max_power, FF, eta, V_oc))\n",
      "\n",
      "    results = pd.DataFrame(results, columns=['parameters', 'pmax', 'ff', 'eta', 'V_oc'])\n",
      "    \n",
      "    results['temp'] = results.apply(map_to_temp, axis=1)\n",
      "    results['intensity'] = results.apply(map_to_intensity, axis=1)\n",
      "    results = results.drop('parameters', 1)\n",
      "    return results\n"
     ],
     "language": "python",
     "metadata": {},
     "outputs": [],
     "prompt_number": 82
    },
    {
     "cell_type": "code",
     "collapsed": false,
     "input": [
      "more_info = []\n",
      "compute_more_information(first_names)\n",
      "more_info.append(compute_more_information(first_names))\n",
      "more_info.append(compute_more_information(second_names))"
     ],
     "language": "python",
     "metadata": {},
     "outputs": [],
     "prompt_number": 187
    },
    {
     "cell_type": "code",
     "collapsed": false,
     "input": [
      "more_info[0].head()"
     ],
     "language": "python",
     "metadata": {},
     "outputs": [
      {
       "html": [
        "<div style=\"max-height:1000px;max-width:1500px;overflow:auto;\">\n",
        "<table border=\"1\" class=\"dataframe\">\n",
        "  <thead>\n",
        "    <tr style=\"text-align: right;\">\n",
        "      <th></th>\n",
        "      <th>pmax</th>\n",
        "      <th>ff</th>\n",
        "      <th>eta</th>\n",
        "      <th>V_oc</th>\n",
        "      <th>temp</th>\n",
        "      <th>intensity</th>\n",
        "    </tr>\n",
        "  </thead>\n",
        "  <tbody>\n",
        "    <tr>\n",
        "      <th>0</th>\n",
        "      <td> 0.000000</td>\n",
        "      <td> 0.000000</td>\n",
        "      <td>  0.000000</td>\n",
        "      <td> 0.00</td>\n",
        "      <td> 102</td>\n",
        "      <td>   0</td>\n",
        "    </tr>\n",
        "    <tr>\n",
        "      <th>1</th>\n",
        "      <td> 0.003579</td>\n",
        "      <td> 0.646282</td>\n",
        "      <td> 16.517850</td>\n",
        "      <td> 0.89</td>\n",
        "      <td> 102</td>\n",
        "      <td> 100</td>\n",
        "    </tr>\n",
        "    <tr>\n",
        "      <th>2</th>\n",
        "      <td> 0.000037</td>\n",
        "      <td> 0.710557</td>\n",
        "      <td>  0.171330</td>\n",
        "      <td> 0.79</td>\n",
        "      <td> 102</td>\n",
        "      <td>  10</td>\n",
        "    </tr>\n",
        "    <tr>\n",
        "      <th>3</th>\n",
        "      <td> 0.000465</td>\n",
        "      <td> 0.717616</td>\n",
        "      <td>  2.145247</td>\n",
        "      <td> 0.85</td>\n",
        "      <td> 102</td>\n",
        "      <td>  20</td>\n",
        "    </tr>\n",
        "    <tr>\n",
        "      <th>4</th>\n",
        "      <td> 0.000941</td>\n",
        "      <td> 0.699922</td>\n",
        "      <td>  4.342187</td>\n",
        "      <td> 0.87</td>\n",
        "      <td> 102</td>\n",
        "      <td>  30</td>\n",
        "    </tr>\n",
        "  </tbody>\n",
        "</table>\n",
        "</div>"
       ],
       "metadata": {},
       "output_type": "pyout",
       "prompt_number": 188,
       "text": [
        "       pmax        ff        eta  V_oc  temp  intensity\n",
        "0  0.000000  0.000000   0.000000  0.00   102          0\n",
        "1  0.003579  0.646282  16.517850  0.89   102        100\n",
        "2  0.000037  0.710557   0.171330  0.79   102         10\n",
        "3  0.000465  0.717616   2.145247  0.85   102         20\n",
        "4  0.000941  0.699922   4.342187  0.87   102         30"
       ]
      }
     ],
     "prompt_number": 188
    },
    {
     "cell_type": "code",
     "collapsed": false,
     "input": [
      "more_info[1].head()"
     ],
     "language": "python",
     "metadata": {},
     "outputs": [
      {
       "html": [
        "<div style=\"max-height:1000px;max-width:1500px;overflow:auto;\">\n",
        "<table border=\"1\" class=\"dataframe\">\n",
        "  <thead>\n",
        "    <tr style=\"text-align: right;\">\n",
        "      <th></th>\n",
        "      <th>pmax</th>\n",
        "      <th>ff</th>\n",
        "      <th>eta</th>\n",
        "      <th>V_oc</th>\n",
        "      <th>temp</th>\n",
        "      <th>intensity</th>\n",
        "    </tr>\n",
        "  </thead>\n",
        "  <tbody>\n",
        "    <tr>\n",
        "      <th>0</th>\n",
        "      <td> 3.419536e-10</td>\n",
        "      <td> 0.268483</td>\n",
        "      <td>  0.000002</td>\n",
        "      <td> 0.02</td>\n",
        "      <td> 101</td>\n",
        "      <td>   0</td>\n",
        "    </tr>\n",
        "    <tr>\n",
        "      <th>1</th>\n",
        "      <td> 3.876000e-03</td>\n",
        "      <td> 0.559204</td>\n",
        "      <td> 17.889368</td>\n",
        "      <td> 0.92</td>\n",
        "      <td> 101</td>\n",
        "      <td> 100</td>\n",
        "    </tr>\n",
        "    <tr>\n",
        "      <th>2</th>\n",
        "      <td> 2.435799e-05</td>\n",
        "      <td> 0.524047</td>\n",
        "      <td>  0.112422</td>\n",
        "      <td> 0.75</td>\n",
        "      <td> 101</td>\n",
        "      <td>  10</td>\n",
        "    </tr>\n",
        "    <tr>\n",
        "      <th>3</th>\n",
        "      <td> 4.743000e-04</td>\n",
        "      <td> 0.611180</td>\n",
        "      <td>  2.189094</td>\n",
        "      <td> 0.87</td>\n",
        "      <td> 101</td>\n",
        "      <td>  20</td>\n",
        "    </tr>\n",
        "    <tr>\n",
        "      <th>4</th>\n",
        "      <td> 9.845600e-04</td>\n",
        "      <td> 0.599917</td>\n",
        "      <td>  4.544158</td>\n",
        "      <td> 0.89</td>\n",
        "      <td> 101</td>\n",
        "      <td>  30</td>\n",
        "    </tr>\n",
        "  </tbody>\n",
        "</table>\n",
        "</div>"
       ],
       "metadata": {},
       "output_type": "pyout",
       "prompt_number": 189,
       "text": [
        "           pmax        ff        eta  V_oc  temp  intensity\n",
        "0  3.419536e-10  0.268483   0.000002  0.02   101          0\n",
        "1  3.876000e-03  0.559204  17.889368  0.92   101        100\n",
        "2  2.435799e-05  0.524047   0.112422  0.75   101         10\n",
        "3  4.743000e-04  0.611180   2.189094  0.87   101         20\n",
        "4  9.845600e-04  0.599917   4.544158  0.89   101         30"
       ]
      }
     ],
     "prompt_number": 189
    },
    {
     "cell_type": "markdown",
     "metadata": {},
     "source": [
      "##RESULTS\n",
      "\n",
      "So, we computed:\n",
      "\n",
      " - max power\n",
      " - FF\n",
      " - $\\eta$\n",
      " \n",
      " for every series of measurement.\n",
      " \n",
      " Here is a table:"
     ]
    },
    {
     "cell_type": "code",
     "collapsed": false,
     "input": [
      "\n"
     ],
     "language": "python",
     "metadata": {},
     "outputs": [],
     "prompt_number": 64
    },
    {
     "cell_type": "markdown",
     "metadata": {},
     "source": [
      "To save results to a file we use built in method in dataframe."
     ]
    },
    {
     "cell_type": "code",
     "collapsed": false,
     "input": [
      "more_info[0].to_csv('results_0.csv', header=['pmax', 'ff', 'eta', 'V_oc', 'temp', 'intensity'])"
     ],
     "language": "python",
     "metadata": {},
     "outputs": [],
     "prompt_number": 89
    },
    {
     "cell_type": "code",
     "collapsed": false,
     "input": [
      "\n",
      "\n"
     ],
     "language": "python",
     "metadata": {},
     "outputs": [],
     "prompt_number": 65
    },
    {
     "cell_type": "code",
     "collapsed": false,
     "input": [
      "more_info[0]"
     ],
     "language": "python",
     "metadata": {},
     "outputs": [
      {
       "html": [
        "<pre>\n",
        "&lt;class 'pandas.core.frame.DataFrame'&gt;\n",
        "Int64Index: 286 entries, 0 to 285\n",
        "Data columns (total 6 columns):\n",
        "pmax         286  non-null values\n",
        "ff           270  non-null values\n",
        "eta          286  non-null values\n",
        "V_oc         286  non-null values\n",
        "temp         286  non-null values\n",
        "intensity    286  non-null values\n",
        "dtypes: float64(4), int64(2)\n",
        "</pre>"
       ],
       "metadata": {},
       "output_type": "pyout",
       "prompt_number": 90,
       "text": [
        "<class 'pandas.core.frame.DataFrame'>\n",
        "Int64Index: 286 entries, 0 to 285\n",
        "Data columns (total 6 columns):\n",
        "pmax         286  non-null values\n",
        "ff           270  non-null values\n",
        "eta          286  non-null values\n",
        "V_oc         286  non-null values\n",
        "temp         286  non-null values\n",
        "intensity    286  non-null values\n",
        "dtypes: float64(4), int64(2)"
       ]
      }
     ],
     "prompt_number": 90
    },
    {
     "cell_type": "code",
     "collapsed": false,
     "input": [
      "with_100_intensity = more_info[0][more_info[0]['intensity'] >= 95]"
     ],
     "language": "python",
     "metadata": {},
     "outputs": [],
     "prompt_number": 91
    },
    {
     "cell_type": "code",
     "collapsed": false,
     "input": [
      "%matplotlib qt4\n",
      "for x in range(2):\n",
      "    with_100_intensity = more_info[x][more_info[x]['intensity'] >= 95]\n",
      "    fig, axis = plt.subplots(1, 3, figsize=(16, 8))\n",
      "\n",
      "\n",
      "    axis[0].plot(with_100_intensity['temp'], with_100_intensity['ff'], 'r*')\n",
      "    axis[0].set_title('$FF (T)$')\n",
      "    axis[0].set_xlabel('$T[K]$')\n",
      "    axis[0].set_ylabel('$FF$')\n",
      "\n",
      "    axis[1].plot(with_100_intensity['temp'], with_100_intensity['V_oc'], 'g+')\n",
      "    axis[1].set_title('$V_{oc} (T)$')\n",
      "    axis[1].set_xlabel('$T[K]$')\n",
      "    axis[1].set_ylabel('$V_{oc}[V]$')\n",
      "\n",
      "\n",
      "    axis[2].plot(with_100_intensity['temp'], with_100_intensity['eta'], 'bx')\n",
      "    axis[2].set_title('$\\eta (T)$')\n",
      "    axis[2].set_xlabel('$T[K]$')\n",
      "    axis[2].set_ylabel('$\\eta$')\n"
     ],
     "language": "python",
     "metadata": {},
     "outputs": [],
     "prompt_number": 191
    },
    {
     "cell_type": "code",
     "collapsed": false,
     "input": [
      "fig, axis = plt.subplots(1, 1, figsize=(16, 8))\n",
      "\n",
      "for x in range(2):\n",
      "    with_100_intensity = more_info[x][more_info[x]['intensity'] >= 95]\n",
      "    axis.plot(with_100_intensity['temp'], with_100_intensity['ff'], 'o', label='Data %s' % (x + 1))\n",
      "    axis.set_title('$FF (T)$')\n",
      "    axis.set_xlabel('$T[K]$')\n",
      "    axis.set_ylabel('$FF$')\n",
      "    \n",
      "    axis.legend(loc=0)\n",
      "\n",
      "fig, axis = plt.subplots(1, 1, figsize=(16, 8))\n",
      "\n",
      "for x in range(2):\n",
      "    with_100_intensity = more_info[x][more_info[x]['intensity'] >= 95]\n",
      "    \n",
      "\n",
      "    axis.plot(with_100_intensity['temp'], with_100_intensity['V_oc'], 'o', label='Data %s' % (x + 1))\n",
      "    axis.set_title('$V_{oc} (T)$')\n",
      "    axis.set_xlabel('$T[K]$')\n",
      "    axis.set_ylabel('$V_{oc}[V]$')\n",
      "    \n",
      "    axis.legend(loc=0)\n",
      "\n",
      "fig, axis = plt.subplots(1, 1, figsize=(16, 8))\n",
      "for x in range(2):\n",
      "    with_100_intensity = more_info[x][more_info[x]['intensity'] >= 95]\n",
      "    axis.plot(with_100_intensity['temp'], with_100_intensity['eta'], 'o', label='Data %s' % (x + 1))\n",
      "    axis.set_title('$\\eta (T)$')\n",
      "    axis.set_xlabel('$T[K]$')\n",
      "    axis.set_ylabel('$\\eta$')\n",
      "    \n",
      "    axis.legend(loc=0)\n"
     ],
     "language": "python",
     "metadata": {},
     "outputs": [],
     "prompt_number": 192
    },
    {
     "cell_type": "code",
     "collapsed": false,
     "input": [
      "print with_100_intensity.to_latex()"
     ],
     "language": "python",
     "metadata": {},
     "outputs": [
      {
       "output_type": "stream",
       "stream": "stdout",
       "text": [
        "\\begin{tabular}{lrrrrrr}\n",
        "\\toprule\n",
        "{} &          pmax &        ff &        eta &  V\\_oc &  temp &  intensity \\\\\n",
        "\\midrule\n",
        "1   &  3.876000e-03 &  0.559204 &  17.889368 &  0.92 &   101 &        100 \\\\\n",
        "12  &  3.940720e-03 &  0.573799 &  18.188078 &  0.91 &   112 &        100 \\\\\n",
        "23  &  3.985980e-03 &  0.586372 &  18.396972 &  0.90 &   121 &        100 \\\\\n",
        "34  &  4.012640e-03 &  0.596452 &  18.520019 &  0.89 &   131 &        100 \\\\\n",
        "45  &  4.020080e-03 &  0.603869 &  18.554358 &  0.88 &   142 &        100 \\\\\n",
        "56  &  4.027520e-03 &  0.611456 &  18.588697 &  0.87 &   152 &        100 \\\\\n",
        "67  &  4.023800e-03 &  0.625265 &  18.571527 &  0.85 &   162 &        100 \\\\\n",
        "78  &  4.008920e-03 &  0.636954 &  18.502850 &  0.83 &   171 &        100 \\\\\n",
        "89  &  3.982200e-03 &  0.640425 &  18.379526 &  0.82 &   181 &        100 \\\\\n",
        "100 &  3.938400e-03 &  0.648190 &  18.177371 &  0.80 &   191 &        100 \\\\\n",
        "111 &  3.861000e-03 &  0.643495 &  17.820137 &  0.79 &   201 &        100 \\\\\n",
        "122 &  3.760720e-03 &  0.643061 &  17.357303 &  0.77 &   211 &        100 \\\\\n",
        "133 &  3.603600e-03 &  0.632627 &  16.632128 &  0.75 &   221 &        100 \\\\\n",
        "144 &  3.498120e-03 &  0.630934 &  16.145293 &  0.73 &   229 &        100 \\\\\n",
        "155 &  3.368560e-03 &  0.624188 &  15.547320 &  0.71 &   239 &        100 \\\\\n",
        "166 &  3.217500e-03 &  0.613962 &  14.850114 &  0.69 &   249 &        100 \\\\\n",
        "177 &  3.068640e-03 &  0.603036 &  14.163063 &  0.67 &   259 &        100 \\\\\n",
        "188 &  2.906740e-03 &  0.589728 &  13.415826 &  0.65 &   269 &        100 \\\\\n",
        "199 &  2.564520e-03 &  0.539375 &  11.836337 &  0.63 &   279 &        100 \\\\\n",
        "210 &  2.281200e-03 &  0.498756 &  10.528696 &  0.61 &   289 &        100 \\\\\n",
        "221 &  2.037600e-03 &  0.464001 &   9.404380 &  0.59 &   299 &        100 \\\\\n",
        "232 &  2.041179e-08 &  0.201465 &   0.000094 &  0.50 &   309 &        100 \\\\\n",
        "243 &  9.407765e-09 &  0.201282 &   0.000043 &  0.39 &   319 &        100 \\\\\n",
        "254 &  3.766200e-03 &  0.537949 &  17.382595 &  0.93 &    89 &        100 \\\\\n",
        "\\bottomrule\n",
        "\\end{tabular}\n",
        "\n"
       ]
      }
     ],
     "prompt_number": 200
    },
    {
     "cell_type": "code",
     "collapsed": false,
     "input": [
      "from scipy.optimize import curve_fit\n",
      "import numpy as np\n",
      "\n",
      "\n",
      "def line(x, a, b):\n",
      "    return x * a + b\n",
      "\n",
      "\n",
      "def compute_phi_b(data):\n",
      "\n",
      "    (a, b), popcv = curve_fit(line, data['temp'].values, data['V_oc'].values)\n",
      "\n",
      "    fig, axis = plt.subplots(1, 1, figsize=(12, 8))\n",
      "\n",
      "    xs = np.linspace(0, 350)\n",
      "    ys = np.array([line(x, a, b) for x in xs])\n",
      "    axis.plot(xs, ys)\n",
      "\n",
      "    axis.plot(with_100_intensity['temp'], with_100_intensity['V_oc'], 'go')\n",
      "    axis.set_xlabel('T[K]')\n",
      "    axis.set_ylabel('V[V]')\n",
      "    axis.set_title(r'$\\Phi_b$')\n",
      "    return a, b\n",
      "\n"
     ],
     "language": "python",
     "metadata": {},
     "outputs": [],
     "prompt_number": 193
    },
    {
     "cell_type": "code",
     "collapsed": false,
     "input": [
      "%matplotlib qt4\n",
      "for x in range(2):\n",
      "    with_100_intensity = more_info[x][more_info[x]['intensity'] >= 95]\n",
      "    data = with_100_intensity[(with_100_intensity['temp'] > 220) & (with_100_intensity['temp'] < 300)]\n",
      "    a, b = compute_phi_b(data)\n",
      "    print \"V_oc: %.2f\" % b"
     ],
     "language": "python",
     "metadata": {},
     "outputs": [
      {
       "output_type": "stream",
       "stream": "stdout",
       "text": [
        "V_oc: 1.15\n",
        "V_oc: 1.20"
       ]
      },
      {
       "output_type": "stream",
       "stream": "stdout",
       "text": [
        "\n"
       ]
      }
     ],
     "prompt_number": 195
    },
    {
     "cell_type": "code",
     "collapsed": false,
     "input": [],
     "language": "python",
     "metadata": {},
     "outputs": [],
     "prompt_number": 153
    },
    {
     "cell_type": "code",
     "collapsed": false,
     "input": [],
     "language": "python",
     "metadata": {},
     "outputs": [],
     "prompt_number": 30
    },
    {
     "cell_type": "code",
     "collapsed": false,
     "input": [
      "ideal = pd.read_csv('pom.txt', sep='\\t')\n",
      "ideal['log(I0)'] = np.log(ideal['I0'])\n",
      "k = 1.3806488 * 10**(-23)\n",
      "\n",
      "ideal['a*log'] = np.log(ideal['I0']) * ideal['A']\n",
      "\n",
      "A = ideal['A']\n",
      "I0 = ideal['I0']\n",
      "ys = np.log(I0) * A\n",
      "\n",
      "xs = 1.0 / ideal['Temperature'] / k"
     ],
     "language": "python",
     "metadata": {},
     "outputs": [],
     "prompt_number": 141
    },
    {
     "cell_type": "code",
     "collapsed": false,
     "input": [
      "%matplotlib qt4\n",
      "ideal = pd.read_csv('pom.txt', sep='\\t')\n",
      "ideal['log(I0)'] = np.log(ideal['I0'])\n",
      "k = 1.3806488 * 10**(-23)\n",
      "\n",
      "ideal['a*log'] = np.log(ideal['I0']) * ideal['A']\n",
      "\n",
      "A = ideal['A']\n",
      "I0 = ideal['I0']\n",
      "ys = np.log(I0) * A\n",
      "\n",
      "xs = 1.0 / ideal['Temperature'] / k\n",
      "\n",
      "fig, axis = plt.subplots(1, 1, figsize=(10, 8))\n",
      "\n",
      "axis.plot(ideal['Temperature'] , A, 'o')\n",
      "axis.set_title('A(T)')\n",
      "axis.set_xlabel(r'$T$', size=24)\n",
      "axis.set_ylabel(r'$A$', size=24)\n",
      "\n",
      "fig, axis = plt.subplots(1, 1, figsize=(10, 8))\n",
      "\n",
      "axis.plot(xs, ys, 'o')\n",
      "axis.set_xlabel(r'$\\beta$', size=24)\n",
      "axis.set_ylabel(r'$A ln(I_o)$', size=24)\n",
      "(phi_B, b), popcv = curve_fit(line, xs[4:], ys[4:])\n",
      "\n",
      "phi_B_ev = phi_B / (1.60217657 * 10**(-19))\n",
      "\n",
      "xs = np.linspace(xs.min(), xs.max(), 100)\n",
      "ys = xs * phi_B + b\n",
      "\n",
      "axis.plot(xs, ys, '-.')\n",
      "print \"Phi_b %.2f: \" % phi_B_ev"
     ],
     "language": "python",
     "metadata": {},
     "outputs": [
      {
       "output_type": "stream",
       "stream": "stdout",
       "text": [
        "Phi_b -1.17: \n"
       ]
      }
     ],
     "prompt_number": 198
    },
    {
     "cell_type": "markdown",
     "metadata": {},
     "source": [
      "ys = ideal['I0']\n",
      "fig, axis = plt.subplots(1, 1, figsize=(12, 8))\n",
      "\n",
      "axis.plot(xs, ys)\n",
      "\n",
      "ys = np.log(ideal['I0'])\n",
      "\n",
      "(phi_B, J_00), popcv = curve_fit(line, xs, ys)"
     ]
    }
   ],
   "metadata": {}
  }
 ]
}