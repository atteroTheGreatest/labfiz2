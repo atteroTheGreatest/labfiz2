{
 "metadata": {
  "name": ""
 },
 "nbformat": 3,
 "nbformat_minor": 0,
 "worksheets": [
  {
   "cells": [
    {
     "cell_type": "code",
     "collapsed": false,
     "input": [
      "import pandas as pd"
     ],
     "language": "python",
     "metadata": {},
     "outputs": [],
     "prompt_number": 2
    },
    {
     "cell_type": "code",
     "collapsed": false,
     "input": [
      "measurement72 = pd.read_csv('pomiar_72h_3procent.csv')"
     ],
     "language": "python",
     "metadata": {},
     "outputs": [],
     "prompt_number": 3
    },
    {
     "cell_type": "code",
     "collapsed": false,
     "input": [
      "\n",
      "measurement2perc = pd.read_csv('pomiar_60ks_2procent.csv')"
     ],
     "language": "python",
     "metadata": {},
     "outputs": [],
     "prompt_number": 4
    },
    {
     "cell_type": "code",
     "collapsed": false,
     "input": [
      "%matplotlib inline"
     ],
     "language": "python",
     "metadata": {},
     "outputs": [],
     "prompt_number": 5
    },
    {
     "cell_type": "code",
     "collapsed": false,
     "input": [],
     "language": "python",
     "metadata": {},
     "outputs": [],
     "prompt_number": 5
    },
    {
     "cell_type": "code",
     "collapsed": false,
     "input": [
      "from matplotlib import pyplot as plt\n",
      "\n",
      "fig, ax = plt.subplots(nrows=1, ncols=1, sharex=True, figsize=(8, 6))\n",
      "\n",
      "x = measurement72['t[s]']\n",
      "y = measurement72['U[mV]']\n",
      "\n",
      "print x"
     ],
     "language": "python",
     "metadata": {},
     "outputs": [
      {
       "output_type": "stream",
       "stream": "stdout",
       "text": [
        "0      5\n",
        "1     10\n",
        "2     15\n",
        "3     20\n",
        "4     25\n",
        "5     30\n",
        "6     35\n",
        "7     40\n",
        "8     45\n",
        "9     50\n",
        "10    55\n",
        "11    60\n",
        "12    65\n",
        "13    70\n",
        "14    75\n",
        "...\n",
        "13536    67685\n",
        "13537    67690\n",
        "13538    67695\n",
        "13539    67700\n",
        "13540    67705\n",
        "13541    67710\n",
        "13542    67715\n",
        "13543    67720\n",
        "13544    67725\n",
        "13545    67730\n",
        "13546    67735\n",
        "13547    67740\n",
        "13548    67745\n",
        "13549    67750\n",
        "13550    67755\n",
        "Name: t[s], Length: 13551, dtype: int64\n"
       ]
      },
      {
       "metadata": {},
       "output_type": "display_data",
       "png": "[encoded data removed]",
       "text": [
        "<matplotlib.figure.Figure at 0x45aea50>"
       ]
      }
     ],
     "prompt_number": 6
    },
    {
     "cell_type": "code",
     "collapsed": false,
     "input": [
      "plt.errorbar(x, y)\n",
      "plt.show()"
     ],
     "language": "python",
     "metadata": {},
     "outputs": [
      {
       "metadata": {},
       "output_type": "display_data",
       "png": "[encoded data removed]",
       "text": [
        "<matplotlib.figure.Figure at 0x45ba0d0>"
       ]
      }
     ],
     "prompt_number": 7
    },
    {
     "cell_type": "code",
     "collapsed": false,
     "input": [
      "x2 = measurement2perc['t[s]']\n",
      "y2 = measurement2perc['U[mV]']"
     ],
     "language": "python",
     "metadata": {},
     "outputs": [],
     "prompt_number": 8
    },
    {
     "cell_type": "code",
     "collapsed": false,
     "input": [
      "plt.errorbar(x2, y2)\n",
      "plt.show()"
     ],
     "language": "python",
     "metadata": {},
     "outputs": [
      {
       "metadata": {},
       "output_type": "display_data",
       "png": "[encoded data removed]",
       "text": [
        "<matplotlib.figure.Figure at 0x4707c50>"
       ]
      }
     ],
     "prompt_number": 9
    },
    {
     "cell_type": "code",
     "collapsed": false,
     "input": [
      "measurement72[measurement72['t[s]'] > 10000][measurement72['t[s]'] < 20000].head()\n"
     ],
     "language": "python",
     "metadata": {},
     "outputs": [
      {
       "html": [
        "<div style=\"max-height:1000px;max-width:1500px;overflow:auto;\">\n",
        "<table border=\"1\" class=\"dataframe\">\n",
        "  <thead>\n",
        "    <tr style=\"text-align: right;\">\n",
        "      <th></th>\n",
        "      <th>t[s]</th>\n",
        "      <th>U[mV]</th>\n",
        "    </tr>\n",
        "  </thead>\n",
        "  <tbody>\n",
        "    <tr>\n",
        "      <th>2000</th>\n",
        "      <td> 10005</td>\n",
        "      <td> 258</td>\n",
        "    </tr>\n",
        "    <tr>\n",
        "      <th>2001</th>\n",
        "      <td> 10010</td>\n",
        "      <td> 258</td>\n",
        "    </tr>\n",
        "    <tr>\n",
        "      <th>2002</th>\n",
        "      <td> 10015</td>\n",
        "      <td> 258</td>\n",
        "    </tr>\n",
        "    <tr>\n",
        "      <th>2003</th>\n",
        "      <td> 10020</td>\n",
        "      <td> 258</td>\n",
        "    </tr>\n",
        "    <tr>\n",
        "      <th>2004</th>\n",
        "      <td> 10025</td>\n",
        "      <td> 258</td>\n",
        "    </tr>\n",
        "  </tbody>\n",
        "</table>\n",
        "</div>"
       ],
       "metadata": {},
       "output_type": "pyout",
       "prompt_number": 19,
       "text": [
        "       t[s]  U[mV]\n",
        "2000  10005    258\n",
        "2001  10010    258\n",
        "2002  10015    258\n",
        "2003  10020    258\n",
        "2004  10025    258"
       ]
      }
     ],
     "prompt_number": 19
    },
    {
     "cell_type": "code",
     "collapsed": false,
     "input": [
      "interesting_region = measurement72[measurement72['U[mV]'] < 200][measurement72['U[mV]'] >= 100]\n",
      "x = interesting_region['t[s]']\n",
      "y = interesting_region['U[mV]']\n"
     ],
     "language": "python",
     "metadata": {},
     "outputs": [],
     "prompt_number": 49
    },
    {
     "cell_type": "code",
     "collapsed": false,
     "input": [
      "plt.errorbar(x, y)\n",
      "plt.show()"
     ],
     "language": "python",
     "metadata": {},
     "outputs": [
      {
       "metadata": {},
       "output_type": "display_data",
       "png": "[encoded data removed]",
       "text": [
        "<matplotlib.figure.Figure at 0x46f1b50>"
       ]
      }
     ],
     "prompt_number": 33
    },
    {
     "cell_type": "code",
     "collapsed": false,
     "input": [
      "interesting_region2 = measurement2perc[measurement2perc['t[s]'] > 5000][measurement2perc['U[mV]'] < 200][measurement2perc['U[mV]'] >= 100]\n",
      "print interesting_region2.head()\n",
      "print interesting_region2.tail()\n",
      "x2 = interesting_region2['t[s]']\n",
      "print x2\n",
      "print y2\n",
      "print interesting_region2.head()\n",
      "y2 = interesting_region2['U[mV]']\n",
      "plt.errorbar(x2, y2)\n",
      "plt.show()"
     ],
     "language": "python",
     "metadata": {},
     "outputs": [
      {
       "output_type": "stream",
       "stream": "stdout",
       "text": [
        "        t[s]  U[mV]\n",
        "12735  12736    199\n",
        "12736  12737    199\n",
        "12737  12738    199\n",
        "12738  12739    199\n",
        "12739  12740    199\n",
        "        t[s]  U[mV]\n",
        "17960  17961    100\n",
        "17961  17962    100\n",
        "17963  17964    100\n",
        "17964  17965    100\n",
        "17966  17967    100\n",
        "12735    12736\n",
        "12736    12737\n",
        "12737    12738\n",
        "12738    12739\n",
        "12739    12740\n",
        "12740    12741\n",
        "12741    12742\n",
        "12742    12743\n",
        "12743    12744\n",
        "12744    12745\n",
        "12745    12746\n",
        "12746    12747\n",
        "12747    12748\n",
        "12748    12749\n",
        "12749    12750\n",
        "...\n",
        "17950    17951\n",
        "17951    17952\n",
        "17952    17953\n",
        "17953    17954\n",
        "17954    17955\n",
        "17955    17956\n",
        "17956    17957\n",
        "17957    17958\n",
        "17958    17959\n",
        "17959    17960\n",
        "17960    17961\n",
        "17961    17962\n",
        "17963    17964\n",
        "17964    17965\n",
        "17966    17967\n",
        "Name: t[s], Length: 5230, dtype: int64\n",
        "12735    199\n",
        "12736    199\n",
        "12737    199\n",
        "12738    199\n",
        "12739    199\n",
        "12740    199\n",
        "12741    199\n",
        "12742    199\n",
        "12743    199\n",
        "12744    199\n",
        "12745    199\n",
        "12746    199\n",
        "12747    199\n",
        "12748    199\n",
        "12749    199\n",
        "...\n",
        "17950    100\n",
        "17951    100\n",
        "17952    100\n",
        "17953    100\n",
        "17954    100\n",
        "17955    100\n",
        "17956    100\n",
        "17957    100\n",
        "17958    100\n",
        "17959    100\n",
        "17960    100\n",
        "17961    100\n",
        "17963    100\n",
        "17964    100\n",
        "17966    100\n",
        "Name: U[mV], Length: 5230, dtype: int64\n",
        "        t[s]  U[mV]\n",
        "12735  12736    199\n",
        "12736  12737    199\n",
        "12737  12738    199\n",
        "12738  12739    199\n",
        "12739  12740    199\n"
       ]
      },
      {
       "metadata": {},
       "output_type": "display_data",
       "png": "[encoded data removed]",
       "text": [
        "<matplotlib.figure.Figure at 0x4e7cb90>"
       ]
      }
     ],
     "prompt_number": 50
    },
    {
     "cell_type": "code",
     "collapsed": false,
     "input": [
      "import numpy as np\n",
      "from scipy.optimize import curve_fit\n",
      "\n",
      "\n",
      "def line(x, a, b):\n",
      "    return a * x + b\n",
      "\n",
      "popt, pcov = curve_fit(line, x2, y2)\n",
      "popt2, pcov2 = curve_fit(line, x, y)\n",
      "\n"
     ],
     "language": "python",
     "metadata": {},
     "outputs": [],
     "prompt_number": 55
    },
    {
     "cell_type": "code",
     "collapsed": false,
     "input": [
      "print popt\n",
      "print pcov"
     ],
     "language": "python",
     "metadata": {},
     "outputs": [
      {
       "output_type": "stream",
       "stream": "stdout",
       "text": [
        "[ -1.96129067e-02   4.49335434e+02]\n",
        "[[  5.62324556e-11  -8.63196353e-07]\n",
        " [ -8.63196353e-07   1.33786732e-02]]\n"
       ]
      }
     ],
     "prompt_number": 40
    },
    {
     "cell_type": "code",
     "collapsed": false,
     "input": [
      "print popt2"
     ],
     "language": "python",
     "metadata": {},
     "outputs": [
      {
       "output_type": "stream",
       "stream": "stdout",
       "text": [
        "[ -1.95465568e-02   5.50220247e+02]\n"
       ]
      }
     ],
     "prompt_number": 42
    },
    {
     "cell_type": "code",
     "collapsed": false,
     "input": [
      "print pcov2"
     ],
     "language": "python",
     "metadata": {},
     "outputs": [
      {
       "output_type": "stream",
       "stream": "stdout",
       "text": [
        "[[  4.10892439e-10  -8.43459455e-06]\n",
        " [ -8.43459455e-06   1.74102970e-01]]\n"
       ]
      }
     ],
     "prompt_number": 44
    },
    {
     "cell_type": "code",
     "collapsed": false,
     "input": [
      "%load http://matplotlib.org/mpl_examples/shapes_and_collections/path_patch_demo.py"
     ],
     "language": "python",
     "metadata": {},
     "outputs": [],
     "prompt_number": 45
    },
    {
     "cell_type": "code",
     "collapsed": false,
     "input": [
      "\"\"\"\n",
      "Demo of a PathPatch object.\n",
      "\"\"\"\n",
      "import matplotlib.path as mpath\n",
      "import matplotlib.patches as mpatches\n",
      "import matplotlib.pyplot as plt\n",
      "\n",
      "\n",
      "fig, ax = plt.subplots()\n",
      "\n",
      "Path = mpath.Path\n",
      "path_data = [\n",
      "    (Path.MOVETO, (1.58, -2.57)),\n",
      "    (Path.CURVE4, (0.35, -1.1)),\n",
      "    (Path.CURVE4, (-1.75, 2.0)),\n",
      "    (Path.CURVE4, (0.375, 2.0)),\n",
      "    (Path.LINETO, (0.85, 1.15)),\n",
      "    (Path.CURVE4, (2.2, 3.2)),\n",
      "    (Path.CURVE4, (3, 0.05)),\n",
      "    (Path.CURVE4, (2.0, -0.5)),\n",
      "    (Path.CLOSEPOLY, (1.58, -2.57)),\n",
      "    ]\n",
      "codes, verts = zip(*path_data)\n",
      "path = mpath.Path(verts, codes)\n",
      "patch = mpatches.PathPatch(path, facecolor='r', alpha=0.5)\n",
      "ax.add_patch(patch)\n",
      "\n",
      "# plot control points and connecting lines\n",
      "x, y = zip(*path.vertices)\n",
      "line, = ax.plot(x, y, 'go-')\n",
      "\n",
      "ax.grid()\n",
      "ax.axis('equal')\n",
      "plt.show()\n"
     ],
     "language": "python",
     "metadata": {},
     "outputs": [
      {
       "metadata": {},
       "output_type": "display_data",
       "png": "[encoded data removed]",
       "text": [
        "<matplotlib.figure.Figure at 0x3ded0d0>"
       ]
      }
     ],
     "prompt_number": 46
    },
    {
     "cell_type": "code",
     "collapsed": false,
     "input": [
      "x = measurement72['t[s]']\n",
      "y = measurement72['U[mV]']\n",
      "\n",
      "x2 = measurement2perc['t[s]']\n",
      "y2 = measurement2perc['U[mV]']\n",
      "\n",
      "\n",
      "fig, ax = plt.subplots(nrows=1, ncols=1, sharex=True, figsize=(8, 6))\n",
      "ax.plot(x, y)\n",
      "ax.plot(x2, y2)\n"
     ],
     "language": "python",
     "metadata": {},
     "outputs": [
      {
       "metadata": {},
       "output_type": "pyout",
       "prompt_number": 52,
       "text": [
        "[<matplotlib.lines.Line2D at 0x5133a10>]"
       ]
      },
      {
       "metadata": {},
       "output_type": "display_data",
       "png": "[encoded data removed]",
       "text": [
        "<matplotlib.figure.Figure at 0x46db190>"
       ]
      }
     ],
     "prompt_number": 52
    },
    {
     "cell_type": "code",
     "collapsed": false,
     "input": [
      "#time\n",
      "\n",
      "x =[739, 753, 781]\n",
      "y = [21.08, 21.07, 21.046]\n",
      "\n",
      "x2 = [763, 812, 985]\n",
      "y2 = [21.0696, 21.0524, 21.0081]\n",
      "\n"
     ],
     "language": "python",
     "metadata": {},
     "outputs": [],
     "prompt_number": 53
    },
    {
     "cell_type": "code",
     "collapsed": false,
     "input": [
      "import numpy as np\n",
      "print np.array(x)\n",
      "xx = np.linspace(1, 10)\n",
      "print xx\n",
      "curve_fit(line, np.array(x), np.array(y))"
     ],
     "language": "python",
     "metadata": {},
     "outputs": [
      {
       "output_type": "stream",
       "stream": "stdout",
       "text": [
        "[739 753 781]\n",
        "[  1.           1.18367347   1.36734694   1.55102041   1.73469388\n",
        "   1.91836735   2.10204082   2.28571429   2.46938776   2.65306122\n",
        "   2.83673469   3.02040816   3.20408163   3.3877551    3.57142857\n",
        "   3.75510204   3.93877551   4.12244898   4.30612245   4.48979592\n",
        "   4.67346939   4.85714286   5.04081633   5.2244898    5.40816327\n",
        "   5.59183673   5.7755102    5.95918367   6.14285714   6.32653061\n",
        "   6.51020408   6.69387755   6.87755102   7.06122449   7.24489796\n",
        "   7.42857143   7.6122449    7.79591837   7.97959184   8.16326531\n",
        "   8.34693878   8.53061224   8.71428571   8.89795918   9.08163265\n",
        "   9.26530612   9.44897959   9.63265306   9.81632653  10.        ]\n"
       ]
      },
      {
       "metadata": {},
       "output_type": "pyout",
       "prompt_number": 63,
       "text": [
        "(array([ -8.16326531e-04,   2.16838367e+01]),\n",
        " array([[  1.24947938e-09,  -9.46688881e-07],\n",
        "       [ -9.46688881e-07,   7.17655561e-04]]))"
       ]
      }
     ],
     "prompt_number": 63
    },
    {
     "cell_type": "code",
     "collapsed": false,
     "input": [
      "curve_fit(line, np.array(x2), np.array(y2))"
     ],
     "language": "python",
     "metadata": {},
     "outputs": [
      {
       "metadata": {},
       "output_type": "pyout",
       "prompt_number": 62,
       "text": [
        "(array([ -2.71518367e-04,   2.12750623e+01]),\n",
        " array([[  2.91793613e-10,  -2.48997217e-07],\n",
        "       [ -2.48997217e-07,   2.15123674e-04]]))"
       ]
      }
     ],
     "prompt_number": 62
    },
    {
     "cell_type": "code",
     "collapsed": false,
     "input": [
      "fig, ax = plt.subplots(nrows=1, ncols=1, sharex=True, figsize=(12, 6))\n",
      "\n",
      "\n",
      "ax.plot(x, y, '-go')\n",
      "ax.plot(x2, y2, '-r*')\n"
     ],
     "language": "python",
     "metadata": {},
     "outputs": [
      {
       "metadata": {},
       "output_type": "pyout",
       "prompt_number": 67,
       "text": [
        "[<matplotlib.lines.Line2D at 0x5fbc0d0>]"
       ]
      },
      {
       "metadata": {},
       "output_type": "display_data",
       "png": "[encoded data removed]",
       "text": [
        "<matplotlib.figure.Figure at 0x5f96050>"
       ]
      }
     ],
     "prompt_number": 67
    },
    {
     "cell_type": "code",
     "collapsed": false,
     "input": [],
     "language": "python",
     "metadata": {},
     "outputs": []
    }
   ],
   "metadata": {}
  }
 ]
}